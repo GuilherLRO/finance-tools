{
 "cells": [
  {
   "cell_type": "code",
   "execution_count": 8,
   "metadata": {},
   "outputs": [],
   "source": [
    "import numpy as np\n",
    "import pandas as pd\n",
    "import matplotlib.pyplot as plt\n",
    "import seaborn as sns\n",
    "import os\n",
    "import openpyxl"
   ]
  },
  {
   "cell_type": "code",
   "execution_count": 9,
   "metadata": {},
   "outputs": [
    {
     "data": {
      "text/plain": [
       "['extratos.ipynb', 'xp']"
      ]
     },
     "execution_count": 9,
     "metadata": {},
     "output_type": "execute_result"
    }
   ],
   "source": [
    "# list files in directory\n",
    "path = os.getcwd()\n",
    "os.listdir(path)\n"
   ]
  },
  {
   "cell_type": "code",
   "execution_count": 10,
   "metadata": {},
   "outputs": [
    {
     "data": {
      "text/plain": [
       "['Extrato 3112581 JAN 2019 a DEC 2022 - Mock.xlsx',\n",
       " 'Extrato 3112581 JAN 2019 a DEC 2022.xlsx',\n",
       " 'Extrato 3112581 JAN 2023 a APR 2023.xlsx']"
      ]
     },
     "execution_count": 10,
     "metadata": {},
     "output_type": "execute_result"
    }
   ],
   "source": [
    "path_xp = path + '/xp'\n",
    "xp_list  = os.listdir(path_xp)\n",
    "xp_list"
   ]
  },
  {
   "cell_type": "code",
   "execution_count": 11,
   "metadata": {},
   "outputs": [],
   "source": [
    "df = pd.DataFrame()\n",
    "for file in xp_list:\n",
    "    # read workbook\n",
    "    wb = openpyxl.load_workbook(path_xp + '/' + file)\n",
    "    ws = wb.active\n",
    "\n",
    "    # read data\n",
    "    data = ws.values\n",
    "\n",
    "    start_range = 'b15'\n",
    "\n",
    "    # find next empty row in column B\n",
    "    for row in ws.iter_rows(min_row=14, min_col=2, max_col=2):\n",
    "        for cell in row:\n",
    "            if cell.value is None:\n",
    "                end_row = cell.row\n",
    "                break\n",
    "\n",
    "    end_range = 'G' + str(end_row)\n",
    "\n",
    "    data = ws[start_range:end_range]\n",
    "    # append cels to dataframe\n",
    "    for row in data:\n",
    "        row_data = []\n",
    "        for cell in row:\n",
    "            row_data.append(cell.value)\n",
    "        if row_data[0] is None:\n",
    "            break\n",
    "        data_dict = {'Movimentação': row_data[0],\n",
    "                    'Liquidação': row_data[1],\n",
    "                    'Lançamento': row_data[2],\n",
    "                        'Valor': row_data[4],\n",
    "                        'Saldo': row_data[5]}\n",
    "            # append dict data to dataframe\n",
    "        df = pd.concat([df, pd.DataFrame(data_dict, index=[0])], ignore_index=True)"
   ]
  },
  {
   "cell_type": "code",
   "execution_count": 12,
   "metadata": {},
   "outputs": [
    {
     "data": {
      "text/html": [
       "<div>\n",
       "<style scoped>\n",
       "    .dataframe tbody tr th:only-of-type {\n",
       "        vertical-align: middle;\n",
       "    }\n",
       "\n",
       "    .dataframe tbody tr th {\n",
       "        vertical-align: top;\n",
       "    }\n",
       "\n",
       "    .dataframe thead th {\n",
       "        text-align: right;\n",
       "    }\n",
       "</style>\n",
       "<table border=\"1\" class=\"dataframe\">\n",
       "  <thead>\n",
       "    <tr style=\"text-align: right;\">\n",
       "      <th></th>\n",
       "      <th>Movimentação</th>\n",
       "      <th>Liquidação</th>\n",
       "      <th>Lançamento</th>\n",
       "      <th>Valor</th>\n",
       "      <th>Saldo</th>\n",
       "    </tr>\n",
       "  </thead>\n",
       "  <tbody>\n",
       "    <tr>\n",
       "      <th>0</th>\n",
       "      <td>2022-12-29</td>\n",
       "      <td>2022-12-29</td>\n",
       "      <td>JUROS S/ CAPITAL DE CLIENTES BBAS3 S/         ...</td>\n",
       "      <td>22.61</td>\n",
       "      <td>1023.81</td>\n",
       "    </tr>\n",
       "    <tr>\n",
       "      <th>1</th>\n",
       "      <td>2022-12-23</td>\n",
       "      <td>2022-12-23</td>\n",
       "      <td>RENDIMENTOS DE CLIENTES XPML11 S/             30</td>\n",
       "      <td>23.10</td>\n",
       "      <td>1001.20</td>\n",
       "    </tr>\n",
       "    <tr>\n",
       "      <th>2</th>\n",
       "      <td>2022-12-23</td>\n",
       "      <td>2022-12-23</td>\n",
       "      <td>RENDIMENTOS DE CLIENTES BTLG11 S/             40</td>\n",
       "      <td>29.60</td>\n",
       "      <td>978.10</td>\n",
       "    </tr>\n",
       "    <tr>\n",
       "      <th>3</th>\n",
       "      <td>2022-12-19</td>\n",
       "      <td>2022-12-19</td>\n",
       "      <td>RENDIMENTOS DE CLIENTES VGIP11 S/             41</td>\n",
       "      <td>18.45</td>\n",
       "      <td>948.50</td>\n",
       "    </tr>\n",
       "    <tr>\n",
       "      <th>4</th>\n",
       "      <td>2022-12-19</td>\n",
       "      <td>2022-12-19</td>\n",
       "      <td>RENDIMENTOS DE CLIENTES MCCI11 S/             35</td>\n",
       "      <td>38.50</td>\n",
       "      <td>930.05</td>\n",
       "    </tr>\n",
       "    <tr>\n",
       "      <th>...</th>\n",
       "      <td>...</td>\n",
       "      <td>...</td>\n",
       "      <td>...</td>\n",
       "      <td>...</td>\n",
       "      <td>...</td>\n",
       "    </tr>\n",
       "    <tr>\n",
       "      <th>505</th>\n",
       "      <td>2023-01-02</td>\n",
       "      <td>2023-01-02</td>\n",
       "      <td>TAXA SEMESTRAL TESOURO DIRETO - CBLC</td>\n",
       "      <td>-8.19</td>\n",
       "      <td>988.56</td>\n",
       "    </tr>\n",
       "    <tr>\n",
       "      <th>506</th>\n",
       "      <td>2023-01-02</td>\n",
       "      <td>2023-01-02</td>\n",
       "      <td>TAXA SEMESTRAL TESOURO DIRETO - CBLC</td>\n",
       "      <td>-15.85</td>\n",
       "      <td>996.75</td>\n",
       "    </tr>\n",
       "    <tr>\n",
       "      <th>507</th>\n",
       "      <td>2023-01-02</td>\n",
       "      <td>2023-01-02</td>\n",
       "      <td>TAXA SEMESTRAL TESOURO DIRETO - CBLC</td>\n",
       "      <td>-3.08</td>\n",
       "      <td>1012.60</td>\n",
       "    </tr>\n",
       "    <tr>\n",
       "      <th>508</th>\n",
       "      <td>2023-01-02</td>\n",
       "      <td>2023-01-02</td>\n",
       "      <td>TAXA SEMESTRAL TESOURO DIRETO - CBLC</td>\n",
       "      <td>-10.57</td>\n",
       "      <td>1015.68</td>\n",
       "    </tr>\n",
       "    <tr>\n",
       "      <th>509</th>\n",
       "      <td>2023-01-02</td>\n",
       "      <td>2023-01-02</td>\n",
       "      <td>JUROS S/ CAPITAL DE CLIENTES SULA11 S/        ...</td>\n",
       "      <td>2.44</td>\n",
       "      <td>1026.25</td>\n",
       "    </tr>\n",
       "  </tbody>\n",
       "</table>\n",
       "<p>510 rows × 5 columns</p>\n",
       "</div>"
      ],
      "text/plain": [
       "    Movimentação Liquidação  \\\n",
       "0     2022-12-29 2022-12-29   \n",
       "1     2022-12-23 2022-12-23   \n",
       "2     2022-12-23 2022-12-23   \n",
       "3     2022-12-19 2022-12-19   \n",
       "4     2022-12-19 2022-12-19   \n",
       "..           ...        ...   \n",
       "505   2023-01-02 2023-01-02   \n",
       "506   2023-01-02 2023-01-02   \n",
       "507   2023-01-02 2023-01-02   \n",
       "508   2023-01-02 2023-01-02   \n",
       "509   2023-01-02 2023-01-02   \n",
       "\n",
       "                                            Lançamento  Valor    Saldo  \n",
       "0    JUROS S/ CAPITAL DE CLIENTES BBAS3 S/         ...  22.61  1023.81  \n",
       "1     RENDIMENTOS DE CLIENTES XPML11 S/             30  23.10  1001.20  \n",
       "2     RENDIMENTOS DE CLIENTES BTLG11 S/             40  29.60   978.10  \n",
       "3     RENDIMENTOS DE CLIENTES VGIP11 S/             41  18.45   948.50  \n",
       "4     RENDIMENTOS DE CLIENTES MCCI11 S/             35  38.50   930.05  \n",
       "..                                                 ...    ...      ...  \n",
       "505               TAXA SEMESTRAL TESOURO DIRETO - CBLC  -8.19   988.56  \n",
       "506               TAXA SEMESTRAL TESOURO DIRETO - CBLC -15.85   996.75  \n",
       "507               TAXA SEMESTRAL TESOURO DIRETO - CBLC  -3.08  1012.60  \n",
       "508               TAXA SEMESTRAL TESOURO DIRETO - CBLC -10.57  1015.68  \n",
       "509  JUROS S/ CAPITAL DE CLIENTES SULA11 S/        ...   2.44  1026.25  \n",
       "\n",
       "[510 rows x 5 columns]"
      ]
     },
     "execution_count": 12,
     "metadata": {},
     "output_type": "execute_result"
    }
   ],
   "source": [
    "df"
   ]
  },
  {
   "cell_type": "code",
   "execution_count": 13,
   "metadata": {},
   "outputs": [],
   "source": [
    "#adding labels\n",
    "def in_out(x):\n",
    "    if x < 0:\n",
    "        return 'out'\n",
    "    else:\n",
    "        return 'in'\n",
    "\n",
    "def labels(x):\n",
    "    # if x contais \"Rendimentos\" return \"Rendimentos\"\n",
    "    if 'RENDIMENTOS' in x:\n",
    "        label =  'Rendimentos'\n",
    "    elif 'JUROS S/ CAPITAL' in x:\n",
    "        label = 'Juros sobre capital'\n",
    "    elif 'DIVIDENDOS' in x:\n",
    "        label = 'Dividendos'\n",
    "    elif 'TED' in x:\n",
    "        label = 'TED'\n",
    "    elif 'OPERAÇÕES EM BOLSA' in x:\n",
    "        label = 'Operações em bolsa'\n",
    "    elif 'COMPRA TESOURO DIRETO' in x:\n",
    "        label = 'Compra tesouro direto'\n",
    "    else:\n",
    "        label = 'Outros'\n",
    "    return label\n",
    "\n",
    "df['tipo'] = df['Lançamento'].apply(labels)\n",
    "df['in/out'] = df['Valor'].apply(in_out)"
   ]
  },
  {
   "cell_type": "code",
   "execution_count": 17,
   "metadata": {},
   "outputs": [
    {
     "data": {
      "text/plain": [
       "Liquidação\n",
       "2019-03                                               1100.0\n",
       "2019-04                                               1100.0\n",
       "2019-05                                              1941.34\n",
       "2019-06                                                405.0\n",
       "2019-07                                               977.84\n",
       "2019-08                                              1726.69\n",
       "2019-09                                                920.0\n",
       "2019-10                                                910.0\n",
       "2019-12                                                925.0\n",
       "2020-01                                                940.0\n",
       "2020-02                                                350.0\n",
       "2020-03                                                165.0\n",
       "2020-04                                                350.0\n",
       "2020-06                                               1260.0\n",
       "2020-07                                                700.0\n",
       "2020-08                                               1990.0\n",
       "2020-10                                                600.0\n",
       "2020-11                                              1911.78\n",
       "2021-01                                               1365.0\n",
       "2021-02                                               1450.0\n",
       "2021-03                                               1170.0\n",
       "2021-04                                               1950.0\n",
       "2021-05                                               2030.0\n",
       "2021-06                                               1600.0\n",
       "2021-07                                               2150.0\n",
       "2021-08                                               1400.0\n",
       "2021-09                                               1930.0\n",
       "2021-10                                               2500.0\n",
       "2021-11                                               1780.0\n",
       "2021-12                                               1600.0\n",
       "2022-01                                              3714.91\n",
       "2022-03                                               6000.0\n",
       "2022-04                                               6000.0\n",
       "2022-05                                              10000.0\n",
       "2022-06                                              10114.2\n",
       "2022-07                                              25000.0\n",
       "2022-08                                              10010.0\n",
       "2022-10                                               5000.0\n",
       "2022-11                                               5000.0\n",
       "2023-01                                              10000.1\n",
       "2023-02                                               5000.0\n",
       "2023-03                                               5000.0\n",
       "2023-04                                               5000.0\n",
       "Valor      [9267, 3421, 9976, 7010, 1875, 5747, 1327, 369...\n",
       "Name: Valor, dtype: object"
      ]
     },
     "execution_count": 17,
     "metadata": {},
     "output_type": "execute_result"
    }
   ],
   "source": [
    "df_aportes_month"
   ]
  },
  {
   "cell_type": "code",
   "execution_count": 20,
   "metadata": {},
   "outputs": [
    {
     "name": "stderr",
     "output_type": "stream",
     "text": [
      "C:\\Users\\guilherme.lawrence_i\\AppData\\Local\\Temp\\ipykernel_13084\\2999093023.py:3: SettingWithCopyWarning: \n",
      "A value is trying to be set on a copy of a slice from a DataFrame.\n",
      "Try using .loc[row_indexer,col_indexer] = value instead\n",
      "\n",
      "See the caveats in the documentation: https://pandas.pydata.org/pandas-docs/stable/user_guide/indexing.html#returning-a-view-versus-a-copy\n",
      "  df_aportes['Valor'] = np.random.randint(1000, 10000, df_aportes.shape[0])\n"
     ]
    },
    {
     "data": {
      "image/png": "[encoded data removed]",
      "text/plain": [
       "<Figure size 1500x500 with 1 Axes>"
      ]
     },
     "metadata": {},
     "output_type": "display_data"
    }
   ],
   "source": [
    "df_aportes = df[(df['tipo'] == \"TED\") & (df['in/out'] == 'in')]\n",
    "# randomize data on order to share in social media. Comment next line to get the real data\n",
    "df_aportes['Valor'] = np.random.randint(1000, 10000, df_aportes.shape[0])\n",
    "\n",
    "df_aportes_month = df_aportes.groupby(df_aportes['Liquidação'].dt.strftime('%Y-%m'))['Valor'].sum()\n",
    "# plot as a time series\n",
    "df_aportes_month.plot(kind='bar', figsize=(15, 5), color='#22577A')\n",
    "plt.title('Aportes mensais')\n",
    "plt.xlabel('Mês')\n",
    "plt.ylabel('Valor')\n",
    "plt.show()"
   ]
  },
  {
   "cell_type": "code",
   "execution_count": 22,
   "metadata": {},
   "outputs": [
    {
     "name": "stderr",
     "output_type": "stream",
     "text": [
      "C:\\Users\\guilherme.lawrence_i\\AppData\\Local\\Temp\\ipykernel_13084\\2244693298.py:3: SettingWithCopyWarning: \n",
      "A value is trying to be set on a copy of a slice from a DataFrame.\n",
      "Try using .loc[row_indexer,col_indexer] = value instead\n",
      "\n",
      "See the caveats in the documentation: https://pandas.pydata.org/pandas-docs/stable/user_guide/indexing.html#returning-a-view-versus-a-copy\n",
      "  df_rendimentos['Valor'] = np.random.randint(1000, 10000, df_rendimentos.shape[0])\n"
     ]
    },
    {
     "data": {
      "image/png": "[encoded data removed]",
      "text/plain": [
       "<Figure size 1500x500 with 1 Axes>"
      ]
     },
     "metadata": {},
     "output_type": "display_data"
    }
   ],
   "source": [
    "df_rendimentos = df[(df['tipo'].isin(['Rendimentos', 'Juros sobre capital', 'Dividendos'])) & (df['in/out'] == 'in')]\n",
    "# randomize data on order to share in social media. Comment next line to get the real data\n",
    "df_rendimentos['Valor'] = np.random.randint(1000, 10000, df_rendimentos.shape[0])\n",
    "df_rendimentos_month_tipo = df_rendimentos.groupby([df_rendimentos['Liquidação'].dt.strftime('%Y-%m'), 'tipo'])['Valor'].sum()\n",
    "df_rendimentos_month_tipo.unstack().plot(kind='bar', figsize=(15, 5),stacked=True, color= ['red', 'orange', '#585ff7'])\n",
    "#hide y axis\n",
    "plt.title('Rendimentos mensais')\n",
    "plt.xlabel('Mês')\n",
    "plt.ylabel('Valor')\n",
    "plt.show()\n"
   ]
  },
  {
   "cell_type": "code",
   "execution_count": null,
   "metadata": {},
   "outputs": [],
   "source": []
  }
 ],
 "metadata": {
  "kernelspec": {
   "display_name": "base",
   "language": "python",
   "name": "python3"
  },
  "language_info": {
   "codemirror_mode": {
    "name": "ipython",
    "version": 3
   },
   "file_extension": ".py",
   "mimetype": "text/x-python",
   "name": "python",
   "nbconvert_exporter": "python",
   "pygments_lexer": "ipython3",
   "version": "3.9.13"
  },
  "orig_nbformat": 4
 },
 "nbformat": 4,
 "nbformat_minor": 2
}
